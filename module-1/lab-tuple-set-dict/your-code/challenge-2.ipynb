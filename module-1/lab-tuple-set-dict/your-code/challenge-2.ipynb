{
 "cells": [
  {
   "cell_type": "markdown",
   "metadata": {},
   "source": [
    "## Challenge 2: Sets\n",
    "\n",
    "There are a lot to learn about Python Sets and the information presented in the lesson is limited due to its length. To learn Python Sets in depth you are strongly encouraged to review the W3Schools tutorial on [Python Sets Examples and Methods](https://www.w3schools.com/python/python_sets.asp) before you work on this lab. Some difficult questions in this lab have their solutions in the W3Schools tutorial.\n",
    "\n",
    "#### First, import the Python `random` libary"
   ]
  },
  {
   "cell_type": "code",
   "execution_count": 2,
   "metadata": {},
   "outputs": [],
   "source": [
    "import random"
   ]
  },
  {
   "cell_type": "markdown",
   "metadata": {},
   "source": [
    "#### In the cell below, create a list named `sample_list_1` with 80 random values. \n",
    "\n",
    "Requirements:\n",
    "\n",
    "* Each value is an integer falling between 0 and 100.\n",
    "* Each value in the list is unique.\n",
    "\n",
    "Print `sample_list_1` to review its values\n",
    "\n",
    "*Hint: use `random.sample` ([reference](https://docs.python.org/3/library/random.html#random.sample)).*"
   ]
  },
  {
   "cell_type": "code",
   "execution_count": 8,
   "metadata": {},
   "outputs": [
    {
     "name": "stdout",
     "output_type": "stream",
     "text": [
      "[17, 81, 84, 48, 75, 71, 1, 65, 83, 10, 56, 12, 57, 77, 93, 89, 96, 4, 58, 91, 22, 98, 70, 61, 11, 6, 33, 44, 43, 15, 49, 99, 16, 60, 69, 74, 68, 59, 55, 66, 94, 79, 3, 53, 76, 87, 31, 38, 95, 27, 29, 35, 72, 28, 51, 80, 2, 97, 9, 13, 85, 7, 54, 82, 42, 40, 0, 47, 52, 78, 73, 26, 64, 36, 8, 67, 63, 90, 19, 37]\n",
      "80\n"
     ]
    }
   ],
   "source": [
    "# Your code here\n",
    "sample_list_1 = random.sample(range(101), 80)\n",
    "\n",
    "print(sample_list_1)\n",
    "\n",
    "#turn the list into a set to make sure that each value is unique and check lenght to asure set lenght is still 80 (it is)\n",
    "sample_list_1 = set(sample_list_1)\n",
    "print(len(sample_list_1))\n"
   ]
  },
  {
   "cell_type": "markdown",
   "metadata": {},
   "source": [
    "#### Convert `sample_list_1` to a set called `set1`. Print the length of the set. Is its length still 80?"
   ]
  },
  {
   "cell_type": "code",
   "execution_count": 9,
   "metadata": {},
   "outputs": [
    {
     "name": "stdout",
     "output_type": "stream",
     "text": [
      "80\n"
     ]
    }
   ],
   "source": [
    "# Your code here\n",
    "set1 = set(sample_list_1)\n",
    "print(len(sample_list_1))\n",
    "\n",
    "#done before, got advanced 😅"
   ]
  },
  {
   "cell_type": "markdown",
   "metadata": {},
   "source": [
    "#### Create another list named `sample_list_2` with 80 random values.\n",
    "\n",
    "Requirements:\n",
    "\n",
    "* Each value is an integer falling between 0 and 100.\n",
    "* The values in the list don't have to be unique.\n",
    "\n",
    "*Hint: Use a FOR loop.*"
   ]
  },
  {
   "cell_type": "code",
   "execution_count": 12,
   "metadata": {},
   "outputs": [
    {
     "name": "stdout",
     "output_type": "stream",
     "text": [
      "[30, 85, 48, 77, 75, 71, 87, 53, 53, 36, 28, 11, 31, 53, 63, 62, 81, 1, 42, 79, 88, 55, 42, 11, 22, 32, 54, 74, 45, 32, 51, 56, 94, 24, 25, 16, 18, 79, 57, 65, 38, 1, 73, 7, 14, 28, 20, 42, 58, 41, 69, 50, 98, 58, 92, 12, 47, 6, 43, 68, 38, 79, 13, 14, 60, 61, 24, 77, 33, 49, 84, 55, 32, 31, 59, 13, 10, 87, 65, 28]\n"
     ]
    }
   ],
   "source": [
    "# Your code here\n",
    "\n",
    "sample_list_2 = random.choices(range(101), k = 80)\n",
    "\n",
    "print(sample_list_2)\n",
    "\n",
    "\n",
    "\n",
    "\n"
   ]
  },
  {
   "cell_type": "markdown",
   "metadata": {},
   "source": [
    "#### Convert `sample_list_2` to a set called `set2`. Print the length of the set. Is its length still 80?"
   ]
  },
  {
   "cell_type": "code",
   "execution_count": 13,
   "metadata": {},
   "outputs": [
    {
     "data": {
      "text/plain": [
       "58"
      ]
     },
     "execution_count": 13,
     "metadata": {},
     "output_type": "execute_result"
    }
   ],
   "source": [
    "# Your code here\n",
    "set2 = set(sample_list_2)\n",
    "len(set2)\n",
    "\n",
    "#New lenght is 59"
   ]
  },
  {
   "cell_type": "markdown",
   "metadata": {},
   "source": [
    "#### Identify the elements present in `set1` but not in `set2`. Assign the elements to a new set named `set3`."
   ]
  },
  {
   "cell_type": "code",
   "execution_count": 14,
   "metadata": {},
   "outputs": [
    {
     "name": "stdout",
     "output_type": "stream",
     "text": [
      "{0, 2, 3, 4, 8, 9, 15, 17, 19, 26, 27, 29, 35, 37, 40, 44, 52, 64, 66, 67, 70, 72, 76, 78, 80, 82, 83, 89, 90, 91, 93, 95, 96, 97, 99}\n"
     ]
    }
   ],
   "source": [
    "# Your code here\n",
    "set3 = set1 - set2\n",
    "\n",
    "print(set3)\n"
   ]
  },
  {
   "cell_type": "markdown",
   "metadata": {},
   "source": [
    "#### Identify the elements present in `set2` but not in `set1`. Assign the elements to a new set named `set4`."
   ]
  },
  {
   "cell_type": "code",
   "execution_count": 15,
   "metadata": {},
   "outputs": [
    {
     "name": "stdout",
     "output_type": "stream",
     "text": [
      "{32, 41, 45, 14, 18, 50, 20, 62, 24, 25, 88, 92, 30}\n"
     ]
    }
   ],
   "source": [
    "# Your code here\n",
    "set4 = set2 - set1\n",
    "\n",
    "print(set4)\n"
   ]
  },
  {
   "cell_type": "markdown",
   "metadata": {},
   "source": [
    "#### Now Identify the elements shared between `set1` and `set2`. Assign the elements to a new set named `set5`."
   ]
  },
  {
   "cell_type": "code",
   "execution_count": 16,
   "metadata": {},
   "outputs": [
    {
     "name": "stdout",
     "output_type": "stream",
     "text": [
      "{1, 6, 7, 10, 11, 12, 13, 16, 22, 28, 31, 33, 36, 38, 42, 43, 47, 48, 49, 51, 53, 54, 55, 56, 57, 58, 59, 60, 61, 63, 65, 68, 69, 71, 73, 74, 75, 77, 79, 81, 84, 85, 87, 94, 98}\n"
     ]
    }
   ],
   "source": [
    "# Your code here\n",
    "set5 = set1&set2\n",
    "\n",
    "print(set5)"
   ]
  },
  {
   "cell_type": "markdown",
   "metadata": {},
   "source": [
    "#### What is the relationship among the following values:\n",
    "\n",
    "* len(set1)\n",
    "* len(set2)\n",
    "* len(set3)\n",
    "* len(set4)\n",
    "* len(set5)\n",
    "\n",
    "Use a math formular to represent that relationship. Test your formular with Python code."
   ]
  },
  {
   "cell_type": "code",
   "execution_count": 17,
   "metadata": {},
   "outputs": [
    {
     "name": "stdout",
     "output_type": "stream",
     "text": [
      "lenghts sets:  1 : 80 , 2 : 58 , 3 : 35 , 4 : 13 , 5 : 45\n",
      "len(set1) == len(set3) + len(set5) , True\n",
      "len(set2) == len(set4) + len(set5 , True\n",
      "len(set3) == len(set1) - len(set5) , True\n",
      "len(set4) == len(set2) - len(set5) , True\n",
      "len(set5) == len(set2) - len(set4) , True\n"
     ]
    }
   ],
   "source": [
    "# Your code here\n",
    "\n",
    "print(\"lenghts sets: \", \"1\", \":\", len(set1),\",\", \"2\", \":\", len(set2),\",\",\"3\", \":\", len(set3),\",\",\"4\", \":\", len(set4),\",\",\"5\", \":\", len(set5))\n",
    "\n",
    "\n",
    "\n",
    "if len(set1) == len(set3) + len(set5):\n",
    "    print(\"len(set1) == len(set3) + len(set5)\",\",\", True)\n",
    "if len(set2) == len(set4) + len(set5):\n",
    "    print(\"len(set2) == len(set4) + len(set5\",\",\", True)\n",
    "if len(set3) == len(set1) - len(set5):\n",
    "    print(\"len(set3) == len(set1) - len(set5)\",\",\", True)\n",
    "if len(set4) == len(set2) - len(set5):\n",
    "    print(\"len(set4) == len(set2) - len(set5)\",\",\", True)\n",
    "if len(set5) == len(set2) - len(set4):\n",
    "    print(\"len(set5) == len(set2) - len(set4)\",\",\", True)\n",
    "\n"
   ]
  },
  {
   "cell_type": "markdown",
   "metadata": {},
   "source": [
    "#### Create an empty set called `set6`."
   ]
  },
  {
   "cell_type": "code",
   "execution_count": 18,
   "metadata": {},
   "outputs": [],
   "source": [
    "# Your code here\n",
    "set6 = set()"
   ]
  },
  {
   "cell_type": "markdown",
   "metadata": {},
   "source": [
    "#### Add `set3` and `set5` to `set6` using the Python Set `update` method."
   ]
  },
  {
   "cell_type": "code",
   "execution_count": 19,
   "metadata": {},
   "outputs": [],
   "source": [
    "# Your code here\n",
    "set6.update(set3, set5)\n"
   ]
  },
  {
   "cell_type": "markdown",
   "metadata": {},
   "source": [
    "#### Check if `set1` and `set6` are equal."
   ]
  },
  {
   "cell_type": "code",
   "execution_count": 20,
   "metadata": {},
   "outputs": [
    {
     "data": {
      "text/plain": [
       "True"
      ]
     },
     "execution_count": 20,
     "metadata": {},
     "output_type": "execute_result"
    }
   ],
   "source": [
    "# Your code here\n",
    "set1 == set6"
   ]
  },
  {
   "cell_type": "markdown",
   "metadata": {},
   "source": [
    "#### Check if `set1` contains `set2` using the Python Set `issubset` method. Then check if `set1` contains `set3`.*"
   ]
  },
  {
   "cell_type": "code",
   "execution_count": 21,
   "metadata": {},
   "outputs": [
    {
     "name": "stdout",
     "output_type": "stream",
     "text": [
      " set1 contains set2:  False\n",
      " set1 contains set3:  True\n"
     ]
    }
   ],
   "source": [
    "# Your code here\n",
    "print(\" set1 contains set2: \", set2.issubset(set1))\n",
    "print(\" set1 contains set3: \", set3.issubset(set1))\n"
   ]
  },
  {
   "cell_type": "markdown",
   "metadata": {},
   "source": [
    "#### Using the Python Set `union` method, aggregate `set3`, `set4`, and `set5`. Then aggregate `set1` and `set2`. \n",
    "\n",
    "#### Check if the aggregated values are equal."
   ]
  },
  {
   "cell_type": "code",
   "execution_count": 22,
   "metadata": {},
   "outputs": [
    {
     "data": {
      "text/plain": [
       "True"
      ]
     },
     "execution_count": 22,
     "metadata": {},
     "output_type": "execute_result"
    }
   ],
   "source": [
    "# Your code here\n",
    "set345 = set3.union(set4, set5)\n",
    "set12 = set1.union(set2)\n",
    "len(set345) == len(set12)"
   ]
  },
  {
   "cell_type": "markdown",
   "metadata": {},
   "source": [
    "#### Using the `pop` method, remove the first element from `set1`."
   ]
  },
  {
   "cell_type": "code",
   "execution_count": 23,
   "metadata": {},
   "outputs": [
    {
     "name": "stdout",
     "output_type": "stream",
     "text": [
      "Complete set1:  [0, 1, 2, 3, 4, 6, 7, 8, 9, 10, 11, 12, 13, 15, 16, 17, 19, 22, 26, 27, 28, 29, 31, 33, 35, 36, 37, 38, 40, 42, 43, 44, 47, 48, 49, 51, 52, 53, 54, 55, 56, 57, 58, 59, 60, 61, 63, 64, 65, 66, 67, 68, 69, 70, 71, 72, 73, 74, 75, 76, 77, 78, 79, 80, 81, 82, 83, 84, 85, 87, 89, 90, 91, 93, 94, 95, 96, 97, 98, 99]\n",
      "Set1 without its first element:  [1, 2, 3, 4, 6, 7, 8, 9, 10, 11, 12, 13, 15, 16, 17, 19, 22, 26, 27, 28, 29, 31, 33, 35, 36, 37, 38, 40, 42, 43, 44, 47, 48, 49, 51, 52, 53, 54, 55, 56, 57, 58, 59, 60, 61, 63, 64, 65, 66, 67, 68, 69, 70, 71, 72, 73, 74, 75, 76, 77, 78, 79, 80, 81, 82, 83, 84, 85, 87, 89, 90, 91, 93, 94, 95, 96, 97, 98, 99]\n"
     ]
    }
   ],
   "source": [
    "# Your code here\n",
    "set1 = list(set1)\n",
    "print(\"Complete set1: \", set1)\n",
    "set1.pop(0)\n",
    "print(\"Set1 without its first element: \", set1)"
   ]
  },
  {
   "cell_type": "markdown",
   "metadata": {},
   "source": [
    "#### Remove every element in the following list from `set1` if they are present in the set. Print the remaining elements.\n",
    "\n",
    "```\n",
    "list_to_remove = [1, 9, 11, 19, 21, 29, 31, 39, 41, 49, 51, 59, 61, 69, 71, 79, 81, 89, 91, 99]\n",
    "```"
   ]
  },
  {
   "cell_type": "code",
   "execution_count": 26,
   "metadata": {},
   "outputs": [
    {
     "name": "stdout",
     "output_type": "stream",
     "text": [
      "[2, 3, 4, 6, 7, 8, 10, 12, 13, 15, 16, 17, 22, 26, 27, 28, 33, 35, 36, 37, 38, 40, 42, 43, 44, 47, 48, 52, 53, 54, 55, 56, 57, 58, 60, 63, 64, 65, 66, 67, 68, 70, 72, 73, 74, 75, 76, 77, 78, 80, 82, 83, 84, 85, 87, 90, 93, 94, 95, 96, 97, 98]\n"
     ]
    }
   ],
   "source": [
    "# Your code here\n",
    "list_to_remove = [1, 9, 11, 19, 21, 29, 31, 39, 41, 49, 51, 59, 61, 69, 71, 79, 81, 89, 91, 99]\n",
    "\n",
    "for i in list_to_remove:\n",
    "    if i in set1 :\n",
    "        set1.remove(i)\n",
    "\n",
    "print(set1)\n"
   ]
  },
  {
   "cell_type": "code",
   "execution_count": null,
   "metadata": {},
   "outputs": [],
   "source": []
  }
 ],
 "metadata": {
  "kernelspec": {
   "display_name": "Python 3",
   "language": "python",
   "name": "python3"
  },
  "language_info": {
   "codemirror_mode": {
    "name": "ipython",
    "version": 3
   },
   "file_extension": ".py",
   "mimetype": "text/x-python",
   "name": "python",
   "nbconvert_exporter": "python",
   "pygments_lexer": "ipython3",
   "version": "3.8.5"
  }
 },
 "nbformat": 4,
 "nbformat_minor": 2
}
